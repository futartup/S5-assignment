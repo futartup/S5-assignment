{
  "nbformat": 4,
  "nbformat_minor": 0,
  "metadata": {
    "colab": {
      "name": "Copy of EVA4 - Session 2.ipynb",
      "provenance": [],
      "collapsed_sections": [],
      "include_colab_link": true
    },
    "kernelspec": {
      "name": "python3",
      "display_name": "Python 3"
    },
    "accelerator": "GPU"
  },
  "cells": [
    {
      "cell_type": "markdown",
      "metadata": {
        "id": "view-in-github",
        "colab_type": "text"
      },
      "source": [
        "<a href=\"https://colab.research.google.com/github/futartup/S5-assignment/blob/master/Trail-1.ipynb\" target=\"_parent\"><img src=\"https://colab.research.google.com/assets/colab-badge.svg\" alt=\"Open In Colab\"/></a>"
      ]
    },
    {
      "cell_type": "code",
      "metadata": {
        "id": "0m2JWFliFfKT",
        "colab_type": "code",
        "colab": {}
      },
      "source": [
        "from __future__ import print_function\n",
        "import torch\n",
        "import torch.nn as nn\n",
        "import torch.nn.functional as F\n",
        "import torch.optim as optim\n",
        "from torchvision import datasets, transforms"
      ],
      "execution_count": 0,
      "outputs": []
    },
    {
      "cell_type": "code",
      "metadata": {
        "id": "h_Cx9q2QFgM7",
        "colab_type": "code",
        "colab": {}
      },
      "source": [
        "class Net(nn.Module):\n",
        "    def __init__(self):\n",
        "        super(Net, self).__init__()\n",
        "        # self.conv1 = nn.Conv2d(1, 10, 3, padding=1, bias=False)\n",
        "        # self.conv2 = nn.Conv2d(10, 16, 3, padding=1, bias=False)\n",
        "        # self.pool1 = nn.MaxPool2d(2, 2)\n",
        "        # self.dout1 = nn.Dropout(p=0.25)\n",
        "        # self.conv3 = nn.Conv2d(16, 32, 3, padding=1, bias=False)\n",
        "        # self.conv4 = nn.Conv2d(32, 64, 3, padding=1, bias=False)\n",
        "        # self.pool2 = nn.MaxPool2d(2, 2)\n",
        "        # self.dout2 = nn.Dropout(p=0.25)\n",
        "        # self.conv5 = nn.Conv2d(64, 64, 1, padding=1, bias=False)\n",
        "        # self.gap   = nn.AvgPool2d(7)\n",
        "\n",
        "        # self.conv7 = nn.Conv2d(64, 10, 1)\n",
        "        #self.conv6 = nn.Conv2d(64, 128, 3, padding=1, bias=False)\n",
        "        #self.conv7 = nn.Conv2d(128, 10, 3, padding=1, bias=False)\n",
        "\n",
        "        # self.conv1 = nn.Conv2d(1, 8, 3, padding=1, bias=False)\n",
        "        # self.pool1 = nn.MaxPool2d(2,2)\n",
        "\n",
        "        # self.conv2 = nn.Conv2d(8, 16, 3, padding=1, bias=False)\n",
        "        # self.pool2 = nn.MaxPool2d(2,2)\n",
        "\n",
        "        # self.conv3 = nn.Conv2d(16, 32, 3, padding=1, bias=False)\n",
        "        # self.conv4 = nn.Conv2d(32, 64, 1, padding=1, bias=False)\n",
        "        # self.gap = nn.AvgPool2d(7)\n",
        "\n",
        "        # self.conv5 = nn.Conv2d(64, 10, 1, padding=1, bias=False)\n",
        "\n",
        "        '''\n",
        "        Transition layers (Convolution + pooling) = 3 \n",
        "        Position of Transition layers = last of each block\n",
        "        '''\n",
        "\n",
        "        # Model S4 assignment\n",
        "        # self.conv1 = nn.Sequential(\n",
        "        #     # BLOCK 1\n",
        "        #     # we are using 3 * 3 convolution\n",
        "        #     nn.Conv2d(1, 8, 3, padding=1, bias=False),\n",
        "        #     nn.ReLU(),\n",
        "        #     # using batch normalization\n",
        "        #     nn.BatchNorm2d(8),\n",
        "        #     nn.Conv2d(8, 8, 3, padding=1, bias=False),\n",
        "        #     nn.ReLU(),\n",
        "        #     nn.BatchNorm2d(8),\n",
        "        #     nn.Conv2d(8, 8, 3, stride=1, padding=1, bias=False),\n",
        "        #     nn.ReLU(),\n",
        "        #     nn.BatchNorm2d(8),\n",
        "        #     nn.MaxPool2d(2, 2),\n",
        "        #     # Dropping out one fourth quarter of pixels since the image is of very small size\n",
        "        #     nn.Dropout(0.25),\n",
        "\n",
        "        #     # BLOCK 2\n",
        "        #     nn.Conv2d(8, 16, 3, padding=1, bias=False),\n",
        "        #     nn.ReLU(),\n",
        "        #     nn.BatchNorm2d(16),\n",
        "        #     nn.Conv2d(16, 16, 3, padding=1, bias=False),\n",
        "        #     nn.ReLU(),\n",
        "        #     nn.BatchNorm2d(16),\n",
        "        #     nn.Conv2d(16, 16, 3, stride=1, padding=1, bias=False),\n",
        "        #     nn.ReLU(),\n",
        "        #     nn.BatchNorm2d(16),\n",
        "        #     nn.MaxPool2d(2, 2),\n",
        "        #     nn.Dropout(0.25),\n",
        "\n",
        "        #     # BLOCK 3 \n",
        "        #     nn.Conv2d(16, 64, 3, padding=1, bias=False),\n",
        "        #     nn.ReLU(),\n",
        "        #     nn.BatchNorm2d(64),\n",
        "        #     nn.MaxPool2d(2, 2),\n",
        "        #     nn.Dropout(0.25),\n",
        "        #     # here we are using 1 * 1 convolution\n",
        "        #     nn.Conv2d(64, 10, 1, padding=1, bias=False),\n",
        "\n",
        "        #     # OUTPUT\n",
        "        #     nn.AvgPool2d(3)\n",
        "        # )\n",
        "\n",
        "        self.conv1 = nn.Sequential(\n",
        "            nn.Conv2d(1, 8, 3, padding=0, bias=False),\n",
        "            nn.ReLU(),\n",
        "            nn.BatchNorm2d(8),\n",
        "            #nn.Dropout(0.25),\n",
        "\n",
        "            nn.Conv2d(8, 8, 3, padding=0, bias=False),\n",
        "            nn.ReLU(),\n",
        "            nn.BatchNorm2d(8),\n",
        "            #nn.Dropout(0.25),\n",
        "\n",
        "            nn.MaxPool2d(2, 2),\n",
        "            nn.Dropout(0.25),\n",
        "\n",
        "            nn.Conv2d(8, 16, 3, padding=0, bias=False),\n",
        "            nn.ReLU(),\n",
        "            nn.BatchNorm2d(16),\n",
        "            #nn.Dropout(0.25),\n",
        "\n",
        "            nn.Conv2d(16, 16, 3, padding=0, bias=False),\n",
        "            nn.ReLU(),\n",
        "            nn.BatchNorm2d(16),\n",
        "            #nn.Dropout(0.25),\n",
        "            nn.MaxPool2d(2, 2),\n",
        "            nn.Dropout(0.25),\n",
        "\n",
        "            nn.Conv2d(16, 64, 3, padding=0, bias=False),\n",
        "            nn.ReLU(),\n",
        "            nn.BatchNorm2d(64),\n",
        "            #nn.Dropout(0.25),\n",
        "\n",
        "            nn.Conv2d(64, 10, 1, padding=0, bias=False),\n",
        "            nn.BatchNorm2d(10),\n",
        "            #nn.Dropout(0.25),\n",
        "\n",
        "            nn.AvgPool2d(2)\n",
        "\n",
        "        )\n",
        "        \n",
        "    def forward(self, x):\n",
        "        # x = self.pool1(F.relu(self.conv2(F.relu(self.conv1(x)))))\n",
        "        # x = self.pool2(F.relu(self.conv4(F.relu(self.conv3(x)))))\n",
        "        # x = self.gap(F.relu(self.conv5(x)))\n",
        "        # x = self.conv7(x)\n",
        "\n",
        "        # x = self.pool1(F.relu(self.conv1(x)))\n",
        "        # x = self.pool2(F.relu(self.conv2(x)))\n",
        "        # x = self.gap(F.relu(self.conv4(F.relu(self.conv3(x)))))\n",
        "        # x = self.conv5(x)\n",
        "        # x = x.view(-1, 10)\n",
        "        # return F.log_softmax(x)\n",
        "\n",
        "        x = self.conv1(x)\n",
        "        #x = self.conv3(x)\n",
        "        \n",
        "        \n",
        "        #x = self.fc(x)\n",
        "        x = x.view(-1, 10)\n",
        "        x = F.log_softmax(x, dim=1)\n",
        "        return x"
      ],
      "execution_count": 0,
      "outputs": []
    },
    {
      "cell_type": "code",
      "metadata": {
        "colab_type": "code",
        "id": "xdydjYTZFyi3",
        "outputId": "0406943c-e7e6-416e-e60d-1d7137897ec2",
        "colab": {
          "base_uri": "https://localhost:8080/",
          "height": 629
        }
      },
      "source": [
        "!pip install torchsummary\n",
        "from torchsummary import summary\n",
        "use_cuda = torch.cuda.is_available()\n",
        "device = torch.device(\"cuda\" if use_cuda else \"cpu\")\n",
        "model = Net().to(device)\n",
        "summary(model, input_size=(1, 28, 28))"
      ],
      "execution_count": 0,
      "outputs": [
        {
          "output_type": "stream",
          "text": [
            "Requirement already satisfied: torchsummary in /usr/local/lib/python3.6/dist-packages (1.5.1)\n",
            "----------------------------------------------------------------\n",
            "        Layer (type)               Output Shape         Param #\n",
            "================================================================\n",
            "            Conv2d-1            [-1, 8, 26, 26]              72\n",
            "              ReLU-2            [-1, 8, 26, 26]               0\n",
            "       BatchNorm2d-3            [-1, 8, 26, 26]              16\n",
            "            Conv2d-4            [-1, 8, 24, 24]             576\n",
            "              ReLU-5            [-1, 8, 24, 24]               0\n",
            "       BatchNorm2d-6            [-1, 8, 24, 24]              16\n",
            "         MaxPool2d-7            [-1, 8, 12, 12]               0\n",
            "           Dropout-8            [-1, 8, 12, 12]               0\n",
            "            Conv2d-9           [-1, 16, 10, 10]           1,152\n",
            "             ReLU-10           [-1, 16, 10, 10]               0\n",
            "      BatchNorm2d-11           [-1, 16, 10, 10]              32\n",
            "           Conv2d-12             [-1, 16, 8, 8]           2,304\n",
            "             ReLU-13             [-1, 16, 8, 8]               0\n",
            "      BatchNorm2d-14             [-1, 16, 8, 8]              32\n",
            "        MaxPool2d-15             [-1, 16, 4, 4]               0\n",
            "          Dropout-16             [-1, 16, 4, 4]               0\n",
            "           Conv2d-17             [-1, 64, 2, 2]           9,216\n",
            "             ReLU-18             [-1, 64, 2, 2]               0\n",
            "      BatchNorm2d-19             [-1, 64, 2, 2]             128\n",
            "           Conv2d-20             [-1, 10, 2, 2]             640\n",
            "      BatchNorm2d-21             [-1, 10, 2, 2]              20\n",
            "        AvgPool2d-22             [-1, 10, 1, 1]               0\n",
            "================================================================\n",
            "Total params: 14,204\n",
            "Trainable params: 14,204\n",
            "Non-trainable params: 0\n",
            "----------------------------------------------------------------\n",
            "Input size (MB): 0.00\n",
            "Forward/backward pass size (MB): 0.32\n",
            "Params size (MB): 0.05\n",
            "Estimated Total Size (MB): 0.37\n",
            "----------------------------------------------------------------\n"
          ],
          "name": "stdout"
        }
      ]
    },
    {
      "cell_type": "code",
      "metadata": {
        "id": "DqTWLaM5GHgH",
        "colab_type": "code",
        "colab": {}
      },
      "source": [
        "\n",
        "\n",
        "torch.manual_seed(1)\n",
        "batch_size = 128\n",
        "\n",
        "kwargs = {'num_workers': 1, 'pin_memory': True} if use_cuda else {}\n",
        "\n",
        "# Here we are using image Normalizer\n",
        "train_loader = torch.utils.data.DataLoader(\n",
        "    datasets.MNIST('../data', train=True, download=True,\n",
        "                    transform=transforms.Compose([\n",
        "                        transforms.ToTensor(),\n",
        "                        transforms.Normalize((0.1307,), (0.3081,))\n",
        "                    ])),\n",
        "    batch_size=batch_size, shuffle=True, **kwargs)\n",
        "test_loader = torch.utils.data.DataLoader(\n",
        "    datasets.MNIST('../data', train=False, transform=transforms.Compose([\n",
        "                        transforms.ToTensor(),\n",
        "                        transforms.Normalize((0.1307,), (0.3081,))\n",
        "                    ])),\n",
        "    batch_size=batch_size, shuffle=True, **kwargs)\n"
      ],
      "execution_count": 0,
      "outputs": []
    },
    {
      "cell_type": "code",
      "metadata": {
        "id": "8fDefDhaFlwH",
        "colab_type": "code",
        "colab": {}
      },
      "source": [
        "from tqdm import tqdm\n",
        "train_losses = []\n",
        "test_losses = []\n",
        "train_acc = []\n",
        "test_acc = []\n",
        "def train(model, device, train_loader, optimizer, epoch):\n",
        "  model.train()\n",
        "  pbar = tqdm(train_loader)\n",
        "  correct = 0\n",
        "  processed = 0\n",
        "  for batch_idx, (data, target) in enumerate(pbar):\n",
        "    # get samples\n",
        "    data, target = data.to(device), target.to(device)\n",
        "\n",
        "    # Init\n",
        "    optimizer.zero_grad()\n",
        "    # In PyTorch, we need to set the gradients to zero before starting to do backpropragation because PyTorch accumulates the gradients on subsequent backward passes. \n",
        "    # Because of this, when you start your training loop, ideally you should zero out the gradients so that you do the parameter update correctly.\n",
        "\n",
        "    # Predict\n",
        "    y_pred = model(data)\n",
        "\n",
        "    # Calculate loss\n",
        "    loss = F.nll_loss(y_pred, target)\n",
        "    train_losses.append(loss)\n",
        "\n",
        "    # Backpropagation\n",
        "    loss.backward()\n",
        "    optimizer.step()\n",
        "\n",
        "    # Update pbar-tqdm\n",
        "    \n",
        "    pred = y_pred.argmax(dim=1, keepdim=True)  # get the index of the max log-probability\n",
        "    correct += pred.eq(target.view_as(pred)).sum().item()\n",
        "    processed += len(data)\n",
        "\n",
        "    pbar.set_description(desc= f'Loss={loss.item()} Batch_id={batch_idx} Accuracy={100*correct/processed:0.2f}')\n",
        "    train_acc.append(100*correct/processed)\n",
        "\n",
        "\n",
        "def test(model, device, test_loader):\n",
        "    model.eval()\n",
        "    test_loss = 0\n",
        "    correct = 0\n",
        "    with torch.no_grad():\n",
        "        for data, target in test_loader:\n",
        "            data, target = data.to(device), target.to(device)\n",
        "            output = model(data)\n",
        "            test_loss += F.nll_loss(output, target, reduction='sum').item()  # sum up batch loss\n",
        "            pred = output.argmax(dim=1, keepdim=True)  # get the index of the max log-probability\n",
        "            correct += pred.eq(target.view_as(pred)).sum().item()\n",
        "\n",
        "    test_loss /= len(test_loader.dataset)\n",
        "\n",
        "    print('\\nTest set: Average loss: {:.4f}, Accuracy: {}/{} ({:.1f}%)\\n'.format(\n",
        "        test_loss, correct, len(test_loader.dataset),\n",
        "        100. * correct / len(test_loader.dataset)))"
      ],
      "execution_count": 0,
      "outputs": []
    },
    {
      "cell_type": "code",
      "metadata": {
        "id": "MMWbLWO6FuHb",
        "colab_type": "code",
        "outputId": "fe250510-f051-423b-b3df-19ddd1ade69b",
        "colab": {
          "base_uri": "https://localhost:8080/",
          "height": 1000
        }
      },
      "source": [
        "\n",
        "model = Net().to(device)\n",
        "optimizer = optim.SGD(model.parameters(), lr=0.01, momentum=0.9)\n",
        "\n",
        "for epoch in range(1, 15):\n",
        "    print(\"epoch no: \" , epoch)\n",
        "    train(model, device, train_loader, optimizer, epoch)\n",
        "    test(model, device, test_loader)"
      ],
      "execution_count": 0,
      "outputs": [
        {
          "output_type": "stream",
          "text": [
            "\r  0%|          | 0/469 [00:00<?, ?it/s]"
          ],
          "name": "stderr"
        },
        {
          "output_type": "stream",
          "text": [
            "epoch no:  1\n"
          ],
          "name": "stdout"
        },
        {
          "output_type": "stream",
          "text": [
            "Loss=0.16639083623886108 Batch_id=468 Accuracy=92.77: 100%|██████████| 469/469 [00:11<00:00, 39.87it/s]\n",
            "  0%|          | 0/469 [00:00<?, ?it/s]"
          ],
          "name": "stderr"
        },
        {
          "output_type": "stream",
          "text": [
            "\n",
            "Test set: Average loss: 0.0814, Accuracy: 9842/10000 (98.4%)\n",
            "\n",
            "epoch no:  2\n"
          ],
          "name": "stdout"
        },
        {
          "output_type": "stream",
          "text": [
            "Loss=0.09570052474737167 Batch_id=468 Accuracy=97.57: 100%|██████████| 469/469 [00:11<00:00, 40.76it/s]\n",
            "  0%|          | 0/469 [00:00<?, ?it/s]"
          ],
          "name": "stderr"
        },
        {
          "output_type": "stream",
          "text": [
            "\n",
            "Test set: Average loss: 0.0478, Accuracy: 9883/10000 (98.8%)\n",
            "\n",
            "epoch no:  3\n"
          ],
          "name": "stdout"
        },
        {
          "output_type": "stream",
          "text": [
            "Loss=0.08632902055978775 Batch_id=468 Accuracy=98.02: 100%|██████████| 469/469 [00:11<00:00, 40.66it/s]\n",
            "  0%|          | 0/469 [00:00<?, ?it/s]"
          ],
          "name": "stderr"
        },
        {
          "output_type": "stream",
          "text": [
            "\n",
            "Test set: Average loss: 0.0419, Accuracy: 9895/10000 (99.0%)\n",
            "\n",
            "epoch no:  4\n"
          ],
          "name": "stdout"
        },
        {
          "output_type": "stream",
          "text": [
            "Loss=0.08706444501876831 Batch_id=468 Accuracy=98.28: 100%|██████████| 469/469 [00:11<00:00, 41.42it/s]\n",
            "  0%|          | 0/469 [00:00<?, ?it/s]"
          ],
          "name": "stderr"
        },
        {
          "output_type": "stream",
          "text": [
            "\n",
            "Test set: Average loss: 0.0342, Accuracy: 9904/10000 (99.0%)\n",
            "\n",
            "epoch no:  5\n"
          ],
          "name": "stdout"
        },
        {
          "output_type": "stream",
          "text": [
            "Loss=0.07008998841047287 Batch_id=468 Accuracy=98.45: 100%|██████████| 469/469 [00:11<00:00, 41.93it/s]\n",
            "  0%|          | 0/469 [00:00<?, ?it/s]"
          ],
          "name": "stderr"
        },
        {
          "output_type": "stream",
          "text": [
            "\n",
            "Test set: Average loss: 0.0329, Accuracy: 9909/10000 (99.1%)\n",
            "\n",
            "epoch no:  6\n"
          ],
          "name": "stdout"
        },
        {
          "output_type": "stream",
          "text": [
            "Loss=0.0903598889708519 Batch_id=468 Accuracy=98.45: 100%|██████████| 469/469 [00:11<00:00, 39.97it/s]\n",
            "  0%|          | 0/469 [00:00<?, ?it/s]"
          ],
          "name": "stderr"
        },
        {
          "output_type": "stream",
          "text": [
            "\n",
            "Test set: Average loss: 0.0288, Accuracy: 9912/10000 (99.1%)\n",
            "\n",
            "epoch no:  7\n"
          ],
          "name": "stdout"
        },
        {
          "output_type": "stream",
          "text": [
            "Loss=0.08424494415521622 Batch_id=468 Accuracy=98.54: 100%|██████████| 469/469 [00:11<00:00, 42.34it/s]\n",
            "  0%|          | 0/469 [00:00<?, ?it/s]"
          ],
          "name": "stderr"
        },
        {
          "output_type": "stream",
          "text": [
            "\n",
            "Test set: Average loss: 0.0275, Accuracy: 9923/10000 (99.2%)\n",
            "\n",
            "epoch no:  8\n"
          ],
          "name": "stdout"
        },
        {
          "output_type": "stream",
          "text": [
            "Loss=0.042771052569150925 Batch_id=468 Accuracy=98.69: 100%|██████████| 469/469 [00:11<00:00, 41.15it/s]\n",
            "  0%|          | 0/469 [00:00<?, ?it/s]"
          ],
          "name": "stderr"
        },
        {
          "output_type": "stream",
          "text": [
            "\n",
            "Test set: Average loss: 0.0244, Accuracy: 9929/10000 (99.3%)\n",
            "\n",
            "epoch no:  9\n"
          ],
          "name": "stdout"
        },
        {
          "output_type": "stream",
          "text": [
            "Loss=0.050055131316185 Batch_id=468 Accuracy=98.72: 100%|██████████| 469/469 [00:10<00:00, 43.46it/s]\n",
            "  0%|          | 0/469 [00:00<?, ?it/s]"
          ],
          "name": "stderr"
        },
        {
          "output_type": "stream",
          "text": [
            "\n",
            "Test set: Average loss: 0.0226, Accuracy: 9939/10000 (99.4%)\n",
            "\n",
            "epoch no:  10\n"
          ],
          "name": "stdout"
        },
        {
          "output_type": "stream",
          "text": [
            "Loss=0.017813293263316154 Batch_id=468 Accuracy=98.75: 100%|██████████| 469/469 [00:10<00:00, 43.86it/s]\n",
            "  0%|          | 0/469 [00:00<?, ?it/s]"
          ],
          "name": "stderr"
        },
        {
          "output_type": "stream",
          "text": [
            "\n",
            "Test set: Average loss: 0.0240, Accuracy: 9931/10000 (99.3%)\n",
            "\n",
            "epoch no:  11\n"
          ],
          "name": "stdout"
        },
        {
          "output_type": "stream",
          "text": [
            "Loss=0.05666668713092804 Batch_id=468 Accuracy=98.77: 100%|██████████| 469/469 [00:11<00:00, 41.81it/s]\n",
            "  0%|          | 0/469 [00:00<?, ?it/s]"
          ],
          "name": "stderr"
        },
        {
          "output_type": "stream",
          "text": [
            "\n",
            "Test set: Average loss: 0.0231, Accuracy: 9929/10000 (99.3%)\n",
            "\n",
            "epoch no:  12\n"
          ],
          "name": "stdout"
        },
        {
          "output_type": "stream",
          "text": [
            "Loss=0.024167140945792198 Batch_id=468 Accuracy=98.85: 100%|██████████| 469/469 [00:10<00:00, 44.02it/s]\n",
            "  0%|          | 0/469 [00:00<?, ?it/s]"
          ],
          "name": "stderr"
        },
        {
          "output_type": "stream",
          "text": [
            "\n",
            "Test set: Average loss: 0.0223, Accuracy: 9926/10000 (99.3%)\n",
            "\n",
            "epoch no:  13\n"
          ],
          "name": "stdout"
        },
        {
          "output_type": "stream",
          "text": [
            "Loss=0.018425950780510902 Batch_id=468 Accuracy=98.92: 100%|██████████| 469/469 [00:11<00:00, 41.28it/s]\n",
            "  0%|          | 0/469 [00:00<?, ?it/s]"
          ],
          "name": "stderr"
        },
        {
          "output_type": "stream",
          "text": [
            "\n",
            "Test set: Average loss: 0.0231, Accuracy: 9934/10000 (99.3%)\n",
            "\n",
            "epoch no:  14\n"
          ],
          "name": "stdout"
        },
        {
          "output_type": "stream",
          "text": [
            "Loss=0.034246109426021576 Batch_id=468 Accuracy=98.91: 100%|██████████| 469/469 [00:10<00:00, 43.85it/s]\n"
          ],
          "name": "stderr"
        },
        {
          "output_type": "stream",
          "text": [
            "\n",
            "Test set: Average loss: 0.0201, Accuracy: 9930/10000 (99.3%)\n",
            "\n"
          ],
          "name": "stdout"
        }
      ]
    },
    {
      "cell_type": "code",
      "metadata": {
        "id": "So5uk4EkHW6R",
        "colab_type": "code",
        "colab": {}
      },
      "source": [
        ""
      ],
      "execution_count": 0,
      "outputs": []
    }
  ]
}